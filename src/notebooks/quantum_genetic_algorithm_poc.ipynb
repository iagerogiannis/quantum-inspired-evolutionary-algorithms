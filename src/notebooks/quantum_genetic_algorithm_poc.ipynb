{
 "cells": [
  {
   "cell_type": "markdown",
   "id": "3e83c63e",
   "metadata": {},
   "source": [
    "##### Quantum Genetic Algorithm Proof of Concept\n",
    "\n",
    "This is an experiment to initialize a chromosome using qubits, the hadamard gate and a QasmSimulator provided by the qiskit library."
   ]
  },
  {
   "cell_type": "code",
   "execution_count": 44,
   "id": "ea06b5a9",
   "metadata": {},
   "outputs": [
    {
     "name": "stdout",
     "output_type": "stream",
     "text": [
      "Sampled Bit String: 000010101011\n"
     ]
    }
   ],
   "source": [
    "from qiskit import QuantumRegister, ClassicalRegister, QuantumCircuit, transpile\n",
    "from qiskit_aer import QasmSimulator\n",
    "\n",
    "\n",
    "num_of_design_variables = 1\n",
    "num_of_qubits_per_design_variable = 12\n",
    "num_of_qubits = num_of_design_variables * num_of_qubits_per_design_variable\n",
    "\n",
    "q = QuantumRegister(num_of_qubits)\n",
    "c = ClassicalRegister(num_of_qubits)\n",
    "qc = QuantumCircuit(q,c)\n",
    "\n",
    "for i in range(num_of_qubits):\n",
    "  qc.h(i)\n",
    "\n",
    "for i in range(num_of_qubits):\n",
    "    qc.measure(q[i], c[i])\n",
    "\n",
    "backend = QasmSimulator()\n",
    "qc_compiled = transpile(qc, backend)\n",
    "job = backend.run(qc_compiled, shots=1)\n",
    "result = job.result()\n",
    "counts = result.get_counts()\n",
    "\n",
    "qubit_string = list(counts.keys())[0]\n",
    "print('Sampled Bit String:', qubit_string)\n"
   ]
  },
  {
   "cell_type": "markdown",
   "id": "af24fe65",
   "metadata": {},
   "source": [
    "##### Storage caclulation for quantum register of variable number of qubits\n",
    "\n",
    "We wanted to model n number of design variables with m number of bits each. In this case we would need n\\*m qubits. Creating a single quantum register with n\\*m qubits wouldn't work.\n",
    "\n",
    "In order to store n\\*m qubits we would need to store 2^(n\\*m + 1) real numbers (4 bytes each). So for 4 design variables modelled by a 12bit chromosome each we would need 2Pb of storage, which is prohibitive and unecessary.\n",
    "\n",
    "This means that we need to handle the chromosome of each design variable separately."
   ]
  },
  {
   "cell_type": "code",
   "execution_count": 45,
   "id": "1c00eaa1",
   "metadata": {},
   "outputs": [
    {
     "ename": "TypeError",
     "evalue": "can only concatenate list (not \"int\") to list",
     "output_type": "error",
     "traceback": [
      "\u001b[1;31m---------------------------------------------------------------------------\u001b[0m",
      "\u001b[1;31mTypeError\u001b[0m                                 Traceback (most recent call last)",
      "Cell \u001b[1;32mIn[45], line 14\u001b[0m\n\u001b[0;32m     12\u001b[0m \u001b[38;5;28;01mfor\u001b[39;00m n_i \u001b[38;5;129;01min\u001b[39;00m n:\n\u001b[0;32m     13\u001b[0m   num_of_qubits \u001b[38;5;241m=\u001b[39m n \u001b[38;5;241m*\u001b[39m n_i\n\u001b[1;32m---> 14\u001b[0m   num_of_reals \u001b[38;5;241m=\u001b[39m \u001b[38;5;241m2\u001b[39m\u001b[38;5;241m*\u001b[39m\u001b[38;5;241m*\u001b[39m(\u001b[43mnum_of_qubits\u001b[49m\u001b[43m \u001b[49m\u001b[38;5;241;43m+\u001b[39;49m\u001b[43m \u001b[49m\u001b[38;5;241;43m1\u001b[39;49m)\n\u001b[0;32m     15\u001b[0m   storage_needed \u001b[38;5;241m=\u001b[39m num_of_reals \u001b[38;5;241m*\u001b[39m \u001b[38;5;241m4\u001b[39m\n\u001b[0;32m     16\u001b[0m   storage, unit \u001b[38;5;241m=\u001b[39m convert_storage(storage_needed)\n",
      "\u001b[1;31mTypeError\u001b[0m: can only concatenate list (not \"int\") to list"
     ]
    }
   ],
   "source": [
    "def convert_storage(storage):\n",
    "  units = ['bytes', 'KB', 'MB', 'GB', 'TB', 'PB', 'EB', 'ZB', 'YB', 'BB', 'NB', 'DB', 'CB']\n",
    "  unit_index = 0\n",
    "  while storage >= 1024 and unit_index < len(units) - 1:\n",
    "    storage /= 1024\n",
    "    unit_index += 1\n",
    "  return storage, units[unit_index]\n",
    "\n",
    "n = [1, 2, 3, 4, 5, 6, 7, 8, 9, 10] # number of design variables\n",
    "m = 12                              # number of qubits per design variable\n",
    "\n",
    "for n_i in n:\n",
    "  num_of_qubits = n_i * m\n",
    "  num_of_reals = 2**(num_of_qubits + 1)\n",
    "  storage_needed = num_of_reals * 4\n",
    "  storage, unit = convert_storage(storage_needed)\n",
    "  print(f'Storage for {n_i} design variables: {storage:.2f} {unit}')\n"
   ]
  }
 ],
 "metadata": {
  "kernelspec": {
   "display_name": "Python 3 (ipykernel)",
   "language": "python",
   "name": "python3"
  },
  "language_info": {
   "codemirror_mode": {
    "name": "ipython",
    "version": 3
   },
   "file_extension": ".py",
   "mimetype": "text/x-python",
   "name": "python",
   "nbconvert_exporter": "python",
   "pygments_lexer": "ipython3",
   "version": "3.11.4"
  }
 },
 "nbformat": 4,
 "nbformat_minor": 5
}
